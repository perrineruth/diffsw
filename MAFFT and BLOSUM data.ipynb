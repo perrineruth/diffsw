{
 "cells": [
  {
   "cell_type": "markdown",
   "id": "7f5b3cfb",
   "metadata": {},
   "source": [
    "# MAFFT Example\n",
    "\n",
    "Before running we need to install MAFFT and a wrapper for it in Python. First, install MAFFT:\n",
    "> [MAFFT installation instructions](https://mafft.cbrc.jp/alignment/software/)\n",
    "\n",
    "Then you want to install BioPython (which has a wrapper for MAFFT). If using Anaconda run:\n",
    "> conda install biopython"
   ]
  },
  {
   "cell_type": "code",
   "execution_count": 1,
   "id": "0747eb97",
   "metadata": {},
   "outputs": [],
   "source": [
    "from Bio.Align.Applications import MafftCommandline\n",
    "from io import StringIO\n",
    "from Bio import AlignIO\n",
    "import numpy as np"
   ]
  },
  {
   "cell_type": "code",
   "execution_count": 2,
   "id": "ae8369ab",
   "metadata": {},
   "outputs": [],
   "source": [
    "def MAFFT(in_file):\n",
    "    mafft_cline = MafftCommandline(input=in_file,localpair=True)\n",
    "    # the above requires using command line\n",
    "    # output to a python datatype\n",
    "    stdout, stderr = mafft_cline()\n",
    "    return AlignIO.read(StringIO(stdout), \"fasta\")"
   ]
  },
  {
   "cell_type": "code",
   "execution_count": 3,
   "id": "5d7c145f",
   "metadata": {},
   "outputs": [
    {
     "name": "stdout",
     "output_type": "stream",
     "text": [
      "---act\n",
      "gata--\n",
      "--tag-\n",
      "--tac-\n"
     ]
    }
   ],
   "source": [
    "# Create alignment\n",
    "in_file = \"ex.fasta\"\n",
    "align = MAFFT(in_file)\n",
    "\n",
    "# print resulting alignment\n",
    "for element in align:\n",
    "    print(element.seq)\n",
    "# alt print(align)"
   ]
  },
  {
   "cell_type": "markdown",
   "id": "e240f080",
   "metadata": {},
   "source": [
    "# Alignment Scoring\n",
    "\n",
    "Compute sum-of-pairs-like scores. First, scoring based on BLOSUM for protein sequences (the following code is from Petti et al.: [make_pairwise_aln_figures.ipynb](https://github.com/spetti/SMURF/blob/main/examples/LAM_AF_examples/make_pairwise_aln_figures.ipynb))"
   ]
  },
  {
   "cell_type": "code",
   "execution_count": 4,
   "id": "13a10547",
   "metadata": {},
   "outputs": [],
   "source": [
    "# BLOSUM62 from https://www.ncbi.nlm.nih.gov/IEB/ToolBox/C_DOC/lxr/source/data/BLOSUM62   \n",
    "array_as_str = \"4 -1 -2 -2  0 -1 -1  0 -2 -1 -1 -1 -1 -2 -1  1  0 -3 -2  0 -2 -1 -1 -1 -4\"\\\n",
    "\" -1  5  0 -2 -3  1  0 -2  0 -3 -2  2 -1 -3 -2 -1 -1 -3 -2 -3 -1 -2  0 -1 -4\"\\\n",
    "\" -2  0  6  1 -3  0  0  0  1 -3 -3  0 -2 -3 -2  1  0 -4 -2 -3  4 -3  0 -1 -4\"\\\n",
    "\" -2 -2  1  6 -3  0  2 -1 -1 -3 -4 -1 -3 -3 -1  0 -1 -4 -3 -3  4 -3  1 -1 -4\"\\\n",
    "\" 0 -3 -3 -3  9 -3 -4 -3 -3 -1 -1 -3 -1 -2 -3 -1 -1 -2 -2 -1 -3 -1 -3 -1 -4\"\\\n",
    "\" -1  1  0  0 -3  5  2 -2  0 -3 -2  1  0 -3 -1  0 -1 -2 -1 -2  0 -2  4 -1 -4\"\\\n",
    "\" -1  0  0  2 -4  2  5 -2  0 -3 -3  1 -2 -3 -1  0 -1 -3 -2 -2  1 -3  4 -1 -4\"\\\n",
    "\" 0 -2  0 -1 -3 -2 -2  6 -2 -4 -4 -2 -3 -3 -2  0 -2 -2 -3 -3 -1 -4 -2 -1 -4\"\\\n",
    "\" -2  0  1 -1 -3  0  0 -2  8 -3 -3 -1 -2 -1 -2 -1 -2 -2  2 -3  0 -3  0 -1 -4\"\\\n",
    "\" -1 -3 -3 -3 -1 -3 -3 -4 -3  4  2 -3  1  0 -3 -2 -1 -3 -1  3 -3  3 -3 -1 -4\"\\\n",
    "\" -1 -2 -3 -4 -1 -2 -3 -4 -3  2  4 -2  2  0 -3 -2 -1 -2 -1  1 -4  3 -3 -1 -4\"\\\n",
    "\" -1  2  0 -1 -3  1  1 -2 -1 -3 -2  5 -1 -3 -1  0 -1 -3 -2 -2  0 -3  1 -1 -4\"\\\n",
    "\" -1 -1 -2 -3 -1  0 -2 -3 -2  1  2 -1  5  0 -2 -1 -1 -1 -1  1 -3  2 -1 -1 -4\"\\\n",
    "\" -2 -3 -3 -3 -2 -3 -3 -3 -1  0  0 -3  0  6 -4 -2 -2  1  3 -1 -3  0 -3 -1 -4\"\\\n",
    "\" -1 -2 -2 -1 -3 -1 -1 -2 -2 -3 -3 -1 -2 -4  7 -1 -1 -4 -3 -2 -2 -3 -1 -1 -4\"\\\n",
    "\" 1 -1  1  0 -1  0  0  0 -1 -2 -2  0 -1 -2 -1  4  1 -3 -2 -2  0 -2  0 -1 -4\"\\\n",
    "\" 0 -1  0 -1 -1 -1 -1 -2 -2 -1 -1 -1 -1 -2 -1  1  5 -2 -2  0 -1 -1 -1 -1 -4\"\\\n",
    "\" -3 -3 -4 -4 -2 -2 -3 -2 -2 -3 -2 -3 -1  1 -4 -3 -2 11  2 -3 -4 -2 -2 -1 -4\"\\\n",
    "\" -2 -2 -2 -3 -2 -1 -2 -3  2 -1 -1 -2 -1  3 -3 -2 -2  2  7 -1 -3 -1 -2 -1 -4\"\\\n",
    "\" 0 -3 -3 -3 -1 -2 -2 -3 -3  3  1 -2  1 -1 -2 -2  0 -3 -1  4 -3  2 -2 -1 -4\"\\\n",
    "\" -2 -1  4  4 -3  0  1 -1  0 -3 -4  0 -3 -3 -2  0 -1 -4 -3 -3  4 -3  0 -1 -4\"\\\n",
    "\" -1 -2 -3 -3 -1 -2 -3 -4 -3  3  3 -3  2  0 -3 -2 -1 -2 -1  2 -3  3 -3 -1 -4\"\\\n",
    "\" -1  0  0  1 -3  4  4 -2  0 -3 -3  1 -1 -3 -1  0 -1 -2 -2 -2  0 -3  4 -1 -4\"\\\n",
    "\" -1 -1 -1 -1 -1 -1 -1 -1 -1 -1 -1 -1 -1 -1 -1 -1 -1 -1 -1 -1 -1 -1 -1 -1 -4\"\\\n",
    "\" -4 -4 -4 -4 -4 -4 -4 -4 -4 -4 -4 -4 -4 -4 -4 -4 -4 -4 -4 -4 -4 -4 -4 -4  1\"\\\n",
    "\n",
    "# make this into a matrix\n",
    "BLOSUM_array=np.array([int(_) for _ in array_as_str.split(\" \") if _ !='']).reshape((25,25))\n",
    "\n",
    "# as a dictionary to make it easy w/ inputs\n",
    "aa_s=[_ for _ in \"A  R  N  D  C  Q  E  G  H  I  L  K  M  F  P  S  T  W  Y  V  B  J  Z  X  *\".split(\" \") if _ !='']\n",
    "BLOSUM_d={}\n",
    "for n1, aa1 in enumerate(aa_s):\n",
    "    for n2, aa2 in enumerate(aa_s):\n",
    "         BLOSUM_d[(aa1, aa2)]=BLOSUM_array[n1,n2]\n",
    "            \n",
    "# unit gap penalty\n",
    "for aa in aa_s:\n",
    "    BLOSUM_d[(aa,\"-\")] = -1\n",
    "    BLOSUM_d[(\"-\",aa)] = -1\n",
    "BLOSUM_d[(\"-\",\"-\")] = 0\n",
    "\n",
    "def count_gap_prefix(seq):\n",
    "    gap_count = 0\n",
    "    for ch in seq:\n",
    "        if type(ch) == int and ch <0: gap_count +=1\n",
    "        elif ch == '-': gap_count +=1\n",
    "        else: return gap_count\n",
    "    return gap_count\n",
    "\n",
    "# get pairwise\n",
    "def get_blosum_score(seq1, seq2):\n",
    "    start = min(count_gap_prefix(seq1), count_gap_prefix(seq2))\n",
    "    end = min(count_gap_prefix(seq1[::-1]), count_gap_prefix(seq2[::-1]))\n",
    "    score = 0\n",
    "    for n in range(start, len(seq1)- end):\n",
    "        score += BLOSUM_d[(seq1[n], seq2[n])]\n",
    "    return score\n",
    "\n",
    "# if aligned appropriately +1 else -1\n",
    "def get_unit_score(seq1, seq2):\n",
    "    start = min(count_gap_prefix(seq1), count_gap_prefix(seq2))\n",
    "    end = min(count_gap_prefix(seq1[::-1]), count_gap_prefix(seq2[::-1]))\n",
    "    score = 0\n",
    "    for n in range(start, len(seq1)- end):\n",
    "        if seq1[n] == seq2[n]:\n",
    "            score += 1\n",
    "        else:\n",
    "            score -= 1\n",
    "    return score"
   ]
  },
  {
   "cell_type": "code",
   "execution_count": 5,
   "id": "f5a27a6c",
   "metadata": {},
   "outputs": [
    {
     "name": "stdout",
     "output_type": "stream",
     "text": [
      "BLOSUM score of ACT to GATA: -1\n",
      "Unit score of ACT to GATA: -4\n",
      "BLOSUM score of ACT to TAG: -1\n",
      "Unit score of ACT to TAG: -2\n",
      "BLOSUM score of ACT to TAC: 11\n",
      "Unit score of ACT to TAC: 0\n",
      "BLOSUM score of GATA to TAG: 6\n",
      "Unit score of GATA to TAG: -1\n",
      "BLOSUM score of GATA to TAC: 6\n",
      "Unit score of GATA to TAC: -1\n",
      "BLOSUM score of TAG to TAC: 6\n",
      "Unit score of TAG to TAC: 1\n"
     ]
    }
   ],
   "source": [
    "# get each pairwise BLOSUM score for each value in example FASTA file\n",
    "# while the ex uses DNA the letters are accounted for in the BLOSUM mat\n",
    "seqs = len(align)\n",
    "for i in range(seqs):\n",
    "    for j in range(i+1,seqs):\n",
    "        seq1 = align[i].seq.upper()\n",
    "        seq2 = align[j].seq.upper()\n",
    "        blosum = get_blosum_score(seq1, seq2)\n",
    "        unit = get_unit_score(seq1, seq2)\n",
    "        print(\"BLOSUM score of \" + str(seq1.strip('-')) + ' to ' + str(seq2.strip('-')) + ': ' + str(blosum))\n",
    "        print(\"Unit score of \" + str(seq1.strip('-')) + ' to ' + str(seq2.strip('-')) + ': ' + str(unit))"
   ]
  }
 ],
 "metadata": {
  "kernelspec": {
   "display_name": "Python 3 (ipykernel)",
   "language": "python",
   "name": "python3"
  },
  "language_info": {
   "codemirror_mode": {
    "name": "ipython",
    "version": 3
   },
   "file_extension": ".py",
   "mimetype": "text/x-python",
   "name": "python",
   "nbconvert_exporter": "python",
   "pygments_lexer": "ipython3",
   "version": "3.9.13"
  }
 },
 "nbformat": 4,
 "nbformat_minor": 5
}
