{
 "cells": [
  {
   "cell_type": "markdown",
   "id": "7f5b3cfb",
   "metadata": {},
   "source": [
    "# MAFFT Example\n",
    "\n",
    "Before running we need to install MAFFT and a wrapper for it in Python. First, install MAFFT:\n",
    "> [MAFFT installation instructions](https://mafft.cbrc.jp/alignment/software/)\n",
    "\n",
    "Then you want to install BioPython (which has a wrapper for MAFFT). If using Anaconda run:\n",
    "> conda install biopython"
   ]
  },
  {
   "cell_type": "code",
   "execution_count": 1,
   "id": "0747eb97",
   "metadata": {},
   "outputs": [],
   "source": [
    "# import biopython\n",
    "from Bio.Align.Applications import MafftCommandline as MAFFT"
   ]
  },
  {
   "cell_type": "code",
   "execution_count": 2,
   "id": "ae8369ab",
   "metadata": {},
   "outputs": [],
   "source": [
    "# read fasta and run MAFFT\n",
    "in_file = \"ex.fasta\"\n",
    "mafft_cline = MAFFT(input=in_file)\n",
    "\n",
    "stdout, stderr = mafft_cline()\n",
    "from io import StringIO\n",
    "from Bio import AlignIO\n",
    "align = AlignIO.read(StringIO(stdout), \"fasta\")"
   ]
  },
  {
   "cell_type": "code",
   "execution_count": 3,
   "id": "5d7c145f",
   "metadata": {},
   "outputs": [
    {
     "name": "stdout",
     "output_type": "stream",
     "text": [
      "Alignment with 4 rows and 6 columns\n",
      "---act 1\n",
      "gata-- 2\n",
      "--tag- 3\n",
      "--tac- 4\n"
     ]
    }
   ],
   "source": [
    "# print resulting alignment\n",
    "print(align)"
   ]
  }
 ],
 "metadata": {
  "kernelspec": {
   "display_name": "Python 3 (ipykernel)",
   "language": "python",
   "name": "python3"
  },
  "language_info": {
   "codemirror_mode": {
    "name": "ipython",
    "version": 3
   },
   "file_extension": ".py",
   "mimetype": "text/x-python",
   "name": "python",
   "nbconvert_exporter": "python",
   "pygments_lexer": "ipython3",
   "version": "3.9.13"
  }
 },
 "nbformat": 4,
 "nbformat_minor": 5
}
